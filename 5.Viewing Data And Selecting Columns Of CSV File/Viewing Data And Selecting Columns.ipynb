{
 "cells": [
  {
   "cell_type": "markdown",
   "id": "df1ef768-6309-465b-b996-617fea77f865",
   "metadata": {},
   "source": [
    "### Create a DataFrame in PySpark and apply basic operations such as viewing data and selecting columns."
   ]
  },
  {
   "cell_type": "code",
   "execution_count": 1,
   "id": "a53db2de-1f98-48dc-b78d-78405b32fa35",
   "metadata": {},
   "outputs": [
    {
     "data": {
      "text/html": [
       "\n",
       "        <div>\n",
       "            <p><b>SparkContext</b></p>\n",
       "\n",
       "            <p><a href=\"http://BharadwajHSKollepara.Dlink:4042\">Spark UI</a></p>\n",
       "\n",
       "            <dl>\n",
       "              <dt>Version</dt>\n",
       "                <dd><code>v4.0.0</code></dd>\n",
       "              <dt>Master</dt>\n",
       "                <dd><code>local[*]</code></dd>\n",
       "              <dt>AppName</dt>\n",
       "                <dd><code>PySparkShell</code></dd>\n",
       "            </dl>\n",
       "        </div>\n",
       "        "
      ],
      "text/plain": [
       "<SparkContext master=local[*] appName=PySparkShell>"
      ]
     },
     "execution_count": 1,
     "metadata": {},
     "output_type": "execute_result"
    }
   ],
   "source": [
    "sc"
   ]
  },
  {
   "cell_type": "markdown",
   "id": "5f654e76-7b4e-4080-a57f-d857488efdc4",
   "metadata": {},
   "source": [
    "\n",
    "## 📊 Dataset Overview\n",
    "\n",
    "* Total Records: **50 students**\n",
    "* Columns: **7** → `id`, `name`, `age`, `gender`, `math`, `science`, `english`\n",
    "* **No missing values**\n",
    "\n",
    "### 👥 Demographics\n",
    "\n",
    "* Age: **18 – 25 years** (average ≈ 21.5)\n",
    "* Gender: **29 Female**, **21 Male**\n",
    "\n",
    "### 📚 Academic Performance\n",
    "\n",
    "* **Math:**\n",
    "\n",
    "  * Range: **40 – 100**\n",
    "  * Mean: **68.9**\n",
    "  * Std. Dev.: **17.6** (high variation)\n",
    "\n",
    "* **Science:**\n",
    "\n",
    "  * Range: **44 – 99**\n",
    "  * Mean: **70.2**\n",
    "  * Std. Dev.: **14.6** (moderate variation)\n",
    "\n",
    "* **English:**\n",
    "\n",
    "  * Range: **42 – 100**\n",
    "  * Mean: **69.4**\n",
    "  * Std. Dev.: **18.7** (highest variation)\n",
    "\n",
    "###  Key Insights\n",
    "\n",
    "* **Science** is the strongest subject on average.\n",
    "* **English** has the most variation in performance.\n",
    "* Students perform differently across subjects (not uniform).\n",
    "\n",
    "\n"
   ]
  },
  {
   "cell_type": "code",
   "execution_count": 2,
   "id": "221a42df-1d9f-4c92-b6fb-d64cac00a83f",
   "metadata": {},
   "outputs": [],
   "source": [
    "from pyspark.sql import SparkSession\n",
    "\n",
    "# Step 1: Initialize Spark Session\n",
    "spark = SparkSession.builder.appName(\"BasicDataFrameOps\").getOrCreate()"
   ]
  },
  {
   "cell_type": "code",
   "execution_count": 3,
   "id": "04a31127-bc02-4b20-a90e-83ffe7ae66d9",
   "metadata": {},
   "outputs": [],
   "source": [
    "# Step 2: Read CSV file into DataFrame\n",
    "df = spark.read.csv(\"students.csv\", header=True, inferSchema=True)"
   ]
  },
  {
   "cell_type": "code",
   "execution_count": 4,
   "id": "b9aa731e-e44b-4c70-9470-b6fbfadb3b31",
   "metadata": {},
   "outputs": [
    {
     "name": "stdout",
     "output_type": "stream",
     "text": [
      "=== First 5 rows ===\n",
      "+---+-------+---+------+----+-------+-------+\n",
      "| id|   name|age|gender|math|science|english|\n",
      "+---+-------+---+------+----+-------+-------+\n",
      "|  1|  Alice| 20|     F|  66|     92|     44|\n",
      "|  2|    Bob| 20|     M|  82|     52|     77|\n",
      "|  3|Charlie| 22|     F|  43|     57|     76|\n",
      "|  4|  David| 19|     M|  95|     69|     46|\n",
      "|  5|    Eva| 19|     F|  62|     44|     96|\n",
      "+---+-------+---+------+----+-------+-------+\n",
      "only showing top 5 rows\n"
     ]
    }
   ],
   "source": [
    "# === Basic Operations ===\n",
    "\n",
    "# 1. View first 5 rows\n",
    "print(\"=== First 5 rows ===\")\n",
    "df.show(5)"
   ]
  },
  {
   "cell_type": "code",
   "execution_count": 5,
   "id": "ff2262d1-7b66-4371-806b-b9c26710f92e",
   "metadata": {},
   "outputs": [
    {
     "name": "stdout",
     "output_type": "stream",
     "text": [
      "=== Schema ===\n",
      "root\n",
      " |-- id: integer (nullable = true)\n",
      " |-- name: string (nullable = true)\n",
      " |-- age: integer (nullable = true)\n",
      " |-- gender: string (nullable = true)\n",
      " |-- math: integer (nullable = true)\n",
      " |-- science: integer (nullable = true)\n",
      " |-- english: integer (nullable = true)\n",
      "\n"
     ]
    }
   ],
   "source": [
    "# 2. Print schema (structure of DataFrame)\n",
    "print(\"=== Schema ===\")\n",
    "df.printSchema()"
   ]
  },
  {
   "cell_type": "code",
   "execution_count": 6,
   "id": "227ff736-eabb-46fe-b5ac-ca1ead377f67",
   "metadata": {},
   "outputs": [
    {
     "name": "stdout",
     "output_type": "stream",
     "text": [
      "=== Select name and math columns ===\n",
      "+-------+----+\n",
      "|   name|math|\n",
      "+-------+----+\n",
      "|  Alice|  66|\n",
      "|    Bob|  82|\n",
      "|Charlie|  43|\n",
      "|  David|  95|\n",
      "|    Eva|  62|\n",
      "+-------+----+\n",
      "only showing top 5 rows\n"
     ]
    }
   ],
   "source": [
    "# 3. Select specific columns: name and math\n",
    "print(\"=== Select name and math columns ===\")\n",
    "df.select(\"name\", \"math\").show(5)"
   ]
  },
  {
   "cell_type": "code",
   "execution_count": 7,
   "id": "c1882af2-63ab-4de2-8611-58f8ee84d93c",
   "metadata": {},
   "outputs": [
    {
     "name": "stdout",
     "output_type": "stream",
     "text": [
      "=== Students with math >= 80 ===\n",
      "+---+------+---+------+----+-------+-------+\n",
      "| id|  name|age|gender|math|science|english|\n",
      "+---+------+---+------+----+-------+-------+\n",
      "|  2|   Bob| 20|     M|  82|     52|     77|\n",
      "|  4| David| 19|     M|  95|     69|     46|\n",
      "| 11| Kathy| 25|     M|  85|     71|     89|\n",
      "| 12|   Leo| 24|     M|  97|     84|     83|\n",
      "| 15|Olivia| 18|     M|  87|     90|     87|\n",
      "+---+------+---+------+----+-------+-------+\n",
      "only showing top 5 rows\n"
     ]
    }
   ],
   "source": [
    "# 4. Filter students with math >= 80\n",
    "print(\"=== Students with math >= 80 ===\")\n",
    "df.filter(df.math >= 80).show(5)"
   ]
  },
  {
   "cell_type": "code",
   "execution_count": 8,
   "id": "35bebe8f-42c3-421c-9020-42615cab7f37",
   "metadata": {},
   "outputs": [
    {
     "name": "stdout",
     "output_type": "stream",
     "text": [
      "=== Sorted by science (desc) ===\n",
      "+---+------+---+------+----+-------+-------+\n",
      "| id|  name|age|gender|math|science|english|\n",
      "+---+------+---+------+----+-------+-------+\n",
      "| 27| Aaron| 25|     F|  81|     99|     44|\n",
      "| 32| Fiona| 22|     F|  48|     96|     48|\n",
      "| 33|George| 22|     M|  66|     95|     84|\n",
      "| 29|  Carl| 22|     F|  53|     92|     52|\n",
      "|  1| Alice| 20|     F|  66|     92|     44|\n",
      "+---+------+---+------+----+-------+-------+\n",
      "only showing top 5 rows\n"
     ]
    }
   ],
   "source": [
    "# 5. Sort students by science marks (descending)\n",
    "print(\"=== Sorted by science (desc) ===\")\n",
    "df.orderBy(df.science.desc()).show(5)"
   ]
  },
  {
   "cell_type": "code",
   "execution_count": 9,
   "id": "6ebf0270-4445-4eb9-91b4-ed5966eaa0ba",
   "metadata": {},
   "outputs": [
    {
     "name": "stdout",
     "output_type": "stream",
     "text": [
      "Total rows in dataset: 50\n"
     ]
    }
   ],
   "source": [
    "# 6. Count total rows\n",
    "print(\"Total rows in dataset:\", df.count())"
   ]
  },
  {
   "cell_type": "code",
   "execution_count": 10,
   "id": "e3e76e5c-7652-42df-919e-ba733346333a",
   "metadata": {},
   "outputs": [
    {
     "name": "stdout",
     "output_type": "stream",
     "text": [
      "Columns: ['id', 'name', 'age', 'gender', 'math', 'science', 'english']\n"
     ]
    }
   ],
   "source": [
    "# 7. Show column names\n",
    "print(\"Columns:\", df.columns)"
   ]
  },
  {
   "cell_type": "markdown",
   "id": "9c18133f-6919-4429-b863-f9ce91984ad4",
   "metadata": {},
   "source": [
    "## Summary\n",
    "* Initialization: The notebook initializes a Spark session and reads a CSV file named students.csv into a DataFrame.\n",
    "\n",
    "* Data Viewing: It shows the first 5 rows of the DataFrame.\n",
    "\n",
    "* Schema and Columns: It prints the schema of the DataFrame, showing the column names and data types, and also lists all column names.\n",
    "\n",
    "* Column Selection: It selects and displays a subset of the data, specifically the name and math columns.\n",
    "\n",
    "* Filtering: It filters the DataFrame to show only students with a math score greater than or equal to 80.\n",
    "\n",
    "* Sorting: It sorts the students in descending order based on their science marks and displays the top 5 results.\n",
    "\n",
    "* Counting: It counts and prints the total number of rows in the dataset, which is 50."
   ]
  },
  {
   "cell_type": "code",
   "execution_count": 11,
   "id": "70d715a0-a275-4b2c-9c51-d728959418a4",
   "metadata": {},
   "outputs": [],
   "source": [
    "# Stop Spark session\n",
    "# spark.stop()"
   ]
  }
 ],
 "metadata": {
  "kernelspec": {
   "display_name": "Python 3 (ipykernel)",
   "language": "python",
   "name": "python3"
  },
  "language_info": {
   "codemirror_mode": {
    "name": "ipython",
    "version": 3
   },
   "file_extension": ".py",
   "mimetype": "text/x-python",
   "name": "python",
   "nbconvert_exporter": "python",
   "pygments_lexer": "ipython3",
   "version": "3.11.5"
  }
 },
 "nbformat": 4,
 "nbformat_minor": 5
}
